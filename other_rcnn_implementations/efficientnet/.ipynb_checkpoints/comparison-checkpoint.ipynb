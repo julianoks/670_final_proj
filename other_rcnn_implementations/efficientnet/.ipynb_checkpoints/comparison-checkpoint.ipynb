{
 "cells": [
  {
   "cell_type": "code",
   "execution_count": 1,
   "metadata": {},
   "outputs": [],
   "source": [
    "import tensorflow as tf\n",
    "import tensorflow_hub as tfhub\n",
    "import PIL\n",
    "import numpy as np"
   ]
  },
  {
   "cell_type": "code",
   "execution_count": 2,
   "metadata": {},
   "outputs": [
    {
     "name": "stdout",
     "output_type": "stream",
     "text": [
      "--2019-11-10 23:34:29--  https://upload.wikimedia.org/wikipedia/commons/f/fe/Giant_Panda_in_Beijing_Zoo_1.JPG\n",
      "Resolving upload.wikimedia.org (upload.wikimedia.org)... 2620:0:861:ed1a::2:b, 208.80.154.240\n",
      "Connecting to upload.wikimedia.org (upload.wikimedia.org)|2620:0:861:ed1a::2:b|:443... connected.\n",
      "HTTP request sent, awaiting response... 200 OK\n",
      "Length: 116068 (113K) [image/jpeg]\n",
      "Saving to: ‘panda.jpg’\n",
      "\n",
      "panda.jpg           100%[===================>] 113.35K  --.-KB/s    in 0.08s   \n",
      "\n",
      "2019-11-10 23:34:29 (1.47 MB/s) - ‘panda.jpg’ saved [116068/116068]\n",
      "\n"
     ]
    }
   ],
   "source": [
    "!wget https://upload.wikimedia.org/wikipedia/commons/f/fe/Giant_Panda_in_Beijing_Zoo_1.JPG -O panda.jpg\n",
    "img = np.array(PIL.Image.open('panda.jpg').resize((224, 224))).astype(np.float)"
   ]
  },
  {
   "cell_type": "code",
   "execution_count": 22,
   "metadata": {},
   "outputs": [
    {
     "name": "stdout",
     "output_type": "stream",
     "text": [
      "INFO:tensorflow:Saver not created because there are no variables in the graph to restore\n"
     ]
    },
    {
     "name": "stderr",
     "output_type": "stream",
     "text": [
      "INFO:tensorflow:Saver not created because there are no variables in the graph to restore\n"
     ]
    },
    {
     "name": "stdout",
     "output_type": "stream",
     "text": [
      "The tensorboard extension is already loaded. To reload it, use:\n",
      "  %reload_ext tensorboard\n"
     ]
    },
    {
     "data": {
      "text/plain": [
       "Reusing TensorBoard on port 6006 (pid 28835), started 4:25:19 ago. (Use '!kill 28835' to kill it.)"
      ]
     },
     "metadata": {},
     "output_type": "display_data"
    },
    {
     "data": {
      "text/html": [
       "\n",
       "      <iframe id=\"tensorboard-frame-390e114b70e58341\" width=\"100%\" height=\"800\" frameborder=\"0\">\n",
       "      </iframe>\n",
       "      <script>\n",
       "        (function() {\n",
       "          const frame = document.getElementById(\"tensorboard-frame-390e114b70e58341\");\n",
       "          const url = new URL(\"/\", window.location);\n",
       "          url.port = 6006;\n",
       "          frame.src = url;\n",
       "        })();\n",
       "      </script>\n",
       "  "
      ],
      "text/plain": [
       "<IPython.core.display.HTML object>"
      ]
     },
     "metadata": {},
     "output_type": "display_data"
    }
   ],
   "source": [
    "tf.reset_default_graph()\n",
    "module_url = \"https://tfhub.dev/google/efficientnet/b0/feature-vector/1\"\n",
    "module = tfhub.Module(module_url)\n",
    "sess = tf.Session()\n",
    "input_imgs = tf.constant(np.random.random((1,224,224,3)), tf.float32)\n",
    "sess.run(tf.global_variables_initializer())\n",
    "output = module(input_imgs)\n",
    "sess.run(output)\n",
    "tf.summary.FileWriter(logdir='logdir', graph=sess.graph)\n",
    "%load_ext tensorboard\n",
    "%tensorboard --logdir logdir\n"
   ]
  },
  {
   "cell_type": "code",
   "execution_count": 24,
   "metadata": {},
   "outputs": [
    {
     "data": {
      "text/plain": [
       "name: \"module/mul\"\n",
       "op: \"Mul\"\n",
       "input: \"module/images\"\n",
       "input: \"module/Const\"\n",
       "attr {\n",
       "  key: \"T\"\n",
       "  value {\n",
       "    type: DT_FLOAT\n",
       "  }\n",
       "}"
      ]
     },
     "execution_count": 24,
     "metadata": {},
     "output_type": "execute_result"
    }
   ],
   "source": [
    "sess.graph.as_graph_def().node[2]"
   ]
  },
  {
   "cell_type": "code",
   "execution_count": null,
   "metadata": {},
   "outputs": [],
   "source": []
  }
 ],
 "metadata": {
  "kernelspec": {
   "display_name": "Python 3",
   "language": "python",
   "name": "python3"
  },
  "language_info": {
   "codemirror_mode": {
    "name": "ipython",
    "version": 3
   },
   "file_extension": ".py",
   "mimetype": "text/x-python",
   "name": "python",
   "nbconvert_exporter": "python",
   "pygments_lexer": "ipython3",
   "version": "3.7.4"
  }
 },
 "nbformat": 4,
 "nbformat_minor": 2
}
